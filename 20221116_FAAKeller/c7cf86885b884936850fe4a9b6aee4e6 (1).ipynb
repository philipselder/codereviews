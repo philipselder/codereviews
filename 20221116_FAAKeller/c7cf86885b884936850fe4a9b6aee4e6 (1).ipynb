{
 "cells": [
  {
   "cell_type": "code",
   "execution_count": null,
   "metadata": {},
   "outputs": [],
   "source": [
    "import pandas as pd\n",
    "import xml.etree.ElementTree as et\n",
    "import math\n",
    "import numpy as np\n",
    "import requests\n",
    "from datetime import datetime as dt\n",
    "from arcgis.gis import GIS\n",
    "import arcpy\n",
    "arcpy.GetInstallInfo()['Version']\n",
    "gis = GIS('home')"
   ]
  },
  {
   "cell_type": "code",
   "execution_count": null,
   "metadata": {},
   "outputs": [],
   "source": [
    "# Variables to be edited on a user-by-user basis\n",
    "region = 'AEA'\n",
    "case = 'OE'\n",
    "#case = 'NRA'\n",
    "years_to_gather = 5\n",
    "airport_codes=['JFK','5I6','LGA','NY07','EWR','UNU','SWF','17V','TEB']\n",
    "feature_service_id = '4626b7b4c72d417997d0a4da0c0a7ba5' # leave as '' if feature does not exist yet"
   ]
  },
  {
   "cell_type": "code",
   "execution_count": null,
   "metadata": {},
   "outputs": [],
   "source": [
    "# Universal variables\n",
    "year = dt.today().year\n",
    "years = [year - i for i in range(years_to_gather + 1)]\n",
    "headers=['OECase','id','asn','asnSequence','dateEntered','expirationDate','dateCompleted',\n",
    "'caseType','nearestAirportName','nearestState','nearestCity','siteElevationProposed',\n",
    "'aglStructureHeight','statusCode','year','sponsor','sponsorAddress1','sponsorCity','sponsorState',\n",
    "'sponsorPostalCode','faaGeographyId','distanceFromNearestAirport','directionFromNearestAirport',\n",
    "'structureDescription','structureType','locatorId','latitude','longitude','sponsorEmail',\n",
    "'sponsorCountry','sponsorPhone','receivedDate','amslOverallHeightProposed','latLongAccuracy','EditFlag']"
   ]
  },
  {
   "cell_type": "code",
   "execution_count": null,
   "metadata": {},
   "outputs": [],
   "source": [
    "def parse_XML(xml_string, df_cols): \n",
    "    '''Parse the input XML string and store the result in a pandas \n",
    "    DataFrame with the given columns. \n",
    "    '''\n",
    "    xroot = et.fromstring(xml_string)\n",
    "    rows = []\n",
    "    \n",
    "    for node in xroot: \n",
    "        res = []\n",
    "        res.append(node.attrib.get(df_cols[0]))\n",
    "        for el in df_cols[1:]: \n",
    "            if node is not None and node.find(el) is not None:\n",
    "                res.append(node.find(el).text)\n",
    "            else: \n",
    "                res.append(None)\n",
    "        rows.append({df_cols[i]: res[i] \n",
    "                     for i, _ in enumerate(df_cols)})\n",
    "    \n",
    "    out_df = pd.DataFrame(rows, columns=df_cols)\n",
    "    out_df.drop('OECase', axis=1, inplace=True)\n",
    "    out_df['latitude'] = out_df['latitude'].astype('float64')\n",
    "    out_df['longitude'] = out_df['longitude'].astype('float64')\n",
    "    out_df['aglStructureHeight'] = out_df['aglStructureHeight'].astype('int')\n",
    "    out_df['dateEntered'] = pd.to_datetime(out_df['dateEntered'],format='%Y-%m-%d')\n",
    "    out_df['expirationDate'] = pd.to_datetime(out_df['expirationDate'],format='%Y-%m-%d')\n",
    "    out_df['dateCompleted'] = pd.to_datetime(out_df['dateCompleted'],format='%Y-%m-%d')\n",
    "    return out_df"
   ]
  },
  {
   "cell_type": "code",
   "execution_count": null,
   "metadata": {},
   "outputs": [],
   "source": [
    "def clean_merge(df,value_field=None):\n",
    "    '''Merge function to search on specific field value'''\n",
    "    try:\n",
    "        df_copy = df.copy(True)\n",
    "        if value_field is not None:\n",
    "            df_copy = df_copy.loc[df_copy[value_field+'_old'] != df_copy[value_field]]\n",
    "        cols = [c for c in df_copy.columns if c.endswith('_old')]\n",
    "        cols.append('_merge')\n",
    "        return_df = df_copy.drop(columns=cols)\n",
    "    except Exception as e:\n",
    "        print(e)\n",
    "        return_df = df\n",
    "    return return_df"
   ]
  },
  {
   "cell_type": "code",
   "execution_count": null,
   "metadata": {},
   "outputs": [],
   "source": [
    "def identify_edits(exist_df,newdata_df,id_field,value_field=None):\n",
    "    '''Uses previous merge function to create an add, updates, and deletes df based on merge results.'''\n",
    "    try:\n",
    "        if exist_df.empty:\n",
    "            adds = newdata_df\n",
    "            upds = pd.DataFrame()\n",
    "        else:\n",
    "            mdf = pd.merge(left=exist_df,\n",
    "                        right=newdata_df,\n",
    "                        on=id_field,\n",
    "                        indicator=True,\n",
    "                        how='outer',\n",
    "                        suffixes=['_old','']\n",
    "                        )\n",
    "            adds = clean_merge(mdf.loc[mdf['_merge'] == 'right_only'],value_field)\n",
    "            upds = clean_merge(mdf.loc[mdf['_merge'] == 'both'],value_field)\n",
    "            dels = clean_merge(mdf.loc[mdf['_merge'] == 'left_only'],value_field)\n",
    "        adds = adds.drop(columns='OBJECTID')\n",
    "        adds['EditFlag'] = '1'\n",
    "        upds['OBJECTID'] = upds['OBJECTID'].astype(int)\n",
    "        upds['EditFlag'] = '1'\n",
    "        dels['OBJECTID'] = dels['OBJECTID'].astype(int)\n",
    "    except Exception as e:\n",
    "        print(e)\n",
    "        adds, upds, dels = [], [], []\n",
    "    return adds, upds, dels"
   ]
  },
  {
   "cell_type": "code",
   "execution_count": null,
   "metadata": {},
   "outputs": [],
   "source": [
    "#Get the XML response from FAA API\n",
    "df_list = []\n",
    "for y in years:\n",
    "    try:\n",
    "        url = f'https://oeaaa.faa.gov/oeaaa/services/caseList/{case}/{y}?region={region}'\n",
    "        get = requests.get(url)\n",
    "        content = get.content\n",
    "        xmlData = content.decode('utf-8')\n",
    "        out_df=parse_XML(xmlData, headers)\n",
    "        df=out_df[out_df.nearestAirportName.isin(airport_codes)]\n",
    "        df_list.append(df)\n",
    "        print(y, 'has been appended')\n",
    "    except Exception as e:\n",
    "        print(y, f'has not been appended due to error: {e}')\n",
    "        continue\n",
    "obst_df=pd.concat(df_list)"
   ]
  },
  {
   "cell_type": "code",
   "execution_count": null,
   "metadata": {
    "scrolled": true
   },
   "outputs": [],
   "source": [
    "#Create spatial data frame\n",
    "sedf= pd.DataFrame.spatial.from_xy(obst_df, 'longitude', 'latitude')"
   ]
  },
  {
   "cell_type": "code",
   "execution_count": null,
   "metadata": {},
   "outputs": [],
   "source": [
    "#Run this if no hosted feature service exists yet\n",
    "if feature_service_id == '':\n",
    "    lyr = sedf.spatial.to_featurelayer('FAA Obstacles')\n",
    "    feature_service_id = lyr.id\n",
    "feature_service_id"
   ]
  },
  {
   "cell_type": "code",
   "execution_count": null,
   "metadata": {
    "scrolled": true
   },
   "outputs": [],
   "source": [
    "#Get hosted feature layer and create a spatial data frame\n",
    "item = gis.content.get(feature_service_id)\n",
    "flayer = item.layers[0]\n",
    "sdf = pd.DataFrame.spatial.from_layer(flayer)"
   ]
  },
  {
   "cell_type": "code",
   "execution_count": null,
   "metadata": {},
   "outputs": [],
   "source": [
    "#Query features\n",
    "feats = flayer.query()\n",
    "\n",
    "#Loop through and change Edit Flag\n",
    "feats_to_edit = []\n",
    "for feat in feats.features:\n",
    "    feat_edit = feat  \n",
    "    feat_edit.attributes['EditFlag'] = '0'\n",
    "    feats_to_edit.append(feat_edit)"
   ]
  },
  {
   "cell_type": "code",
   "execution_count": null,
   "metadata": {},
   "outputs": [],
   "source": [
    "#Update layer so Edit Flag is ready for new/changed features\n",
    "max_feats = 500\n",
    "new_features = feats_to_edit\n",
    "output_flayer = flayer\n",
    "if len(new_features) > max_feats:\n",
    "    # update in chunks\n",
    "    chunks = math.ceil(len(new_features) / max_feats)\n",
    "    new_feat_chunks = np.array_split(new_features, chunks)\n",
    "    print('Adding new features in {} chunks'.format(chunks))\n",
    "    for x in new_feat_chunks:\n",
    "        output_flayer.edit_features(updates = x)\n",
    "else:\n",
    "    output_flayer.edit_features(updates = new_features)"
   ]
  },
  {
   "cell_type": "code",
   "execution_count": null,
   "metadata": {},
   "outputs": [],
   "source": [
    "#Run function\n",
    "adds,upds,dels = identify_edits(sdf,sedf,'id',value_field='statusCode')"
   ]
  },
  {
   "cell_type": "code",
   "execution_count": null,
   "metadata": {},
   "outputs": [],
   "source": [
    "#Add, Update, or Delete features\n",
    "if not adds.empty:\n",
    "    add_result = flayer.edit_features(adds = adds.spatial.to_featureset())"
   ]
  },
  {
   "cell_type": "code",
   "execution_count": null,
   "metadata": {},
   "outputs": [],
   "source": [
    "#Add, Update, or Delete features\n",
    "if not upds.empty:\n",
    "    update_result = flayer.edit_features(updates = upds.spatial.to_featureset())"
   ]
  },
  {
   "cell_type": "code",
   "execution_count": null,
   "metadata": {},
   "outputs": [],
   "source": [
    "#Add, Update, or Delete features\n",
    "if not dels.empty:\n",
    "    dels_list = dels['OBJECTID'].tolist()\n",
    "    delete_result = flayer.edit_features(deletes = dels_list)"
   ]
  },
  {
   "cell_type": "code",
   "execution_count": null,
   "metadata": {},
   "outputs": [],
   "source": []
  }
 ],
 "metadata": {
  "esriNotebookRuntime": {
   "notebookRuntimeName": "ArcGIS Notebook Python 3 Standard",
   "notebookRuntimeVersion": "7.0"
  },
  "kernelspec": {
   "display_name": "Python 3",
   "language": "python",
   "name": "python3"
  },
  "language_info": {
   "codemirror_mode": {
    "name": "ipython",
    "version": 3
   },
   "file_extension": ".py",
   "mimetype": "text/x-python",
   "name": "python",
   "nbconvert_exporter": "python",
   "pygments_lexer": "ipython3",
   "version": "3.7.11"
  }
 },
 "nbformat": 4,
 "nbformat_minor": 2
}
